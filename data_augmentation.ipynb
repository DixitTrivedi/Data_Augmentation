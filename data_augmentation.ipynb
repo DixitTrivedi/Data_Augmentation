{
  "nbformat": 4,
  "nbformat_minor": 0,
  "metadata": {
    "colab": {
      "name": "data_augmentation.ipynb",
      "provenance": []
    },
    "kernelspec": {
      "name": "python3",
      "display_name": "Python 3"
    }
  },
  "cells": [
    {
      "cell_type": "code",
      "metadata": {
        "id": "q57vPYOjEWG_",
        "colab_type": "code",
        "colab": {}
      },
      "source": [
        "# import libraries\n",
        "from keras.preprocessing.image import array_to_img, img_to_array, load_img, ImageDataGenerator"
      ],
      "execution_count": 0,
      "outputs": []
    },
    {
      "cell_type": "code",
      "metadata": {
        "id": "IY_j9hAr9Qte",
        "colab_type": "code",
        "colab": {
          "base_uri": "https://localhost:8080/",
          "height": 34
        },
        "outputId": "a526cc55-098e-4073-89e9-fe3f179dbcd8"
      },
      "source": [
        "datagen = ImageDataGenerator(\n",
        "    rotation_range=40,\n",
        "    width_shift_range=0.2,\n",
        "    height_shift_range=0.2,\n",
        "    shear_range=0.2,\n",
        "    zoom_range=0.2,\n",
        "    horizontal_flip=True,\n",
        "    fill_mode='nearest',)\n",
        "\n",
        "img = load_img('drive/My Drive/catanddog/cat.jpg') # giving path where images are stored\n",
        "x = img_to_array(img) # converting image to array for doing opretion\n",
        "x = x.reshape((1,) + x.shape) # reshape image (1, 3, 183, 275) here 3 indicate rgb channel \n",
        "print(x.shape)"
      ],
      "execution_count": 10,
      "outputs": [
        {
          "output_type": "stream",
          "text": [
            "(1, 183, 275, 3)\n"
          ],
          "name": "stdout"
        }
      ]
    },
    {
      "cell_type": "code",
      "metadata": {
        "id": "cdTCO6GO-UFk",
        "colab_type": "code",
        "colab": {}
      },
      "source": [
        "# here .flow() function generate images and store into given path \n",
        "i = 0\n",
        "for batch in datagen.flow(x, batch_size=1, save_to_dir='drive/My Drive/catanddog/preview', save_prefix='cat', save_format='jpeg'):\n",
        "  i +=1\n",
        "  if i>20:\n",
        "    break"
      ],
      "execution_count": 0,
      "outputs": []
    },
    {
      "cell_type": "code",
      "metadata": {
        "id": "ZSbVsm-3Ax6e",
        "colab_type": "code",
        "colab": {}
      },
      "source": [
        ""
      ],
      "execution_count": 0,
      "outputs": []
    }
  ]
}